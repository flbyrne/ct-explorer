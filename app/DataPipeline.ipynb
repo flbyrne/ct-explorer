{
 "cells": [
  {
   "cell_type": "code",
   "execution_count": 1,
   "metadata": {},
   "outputs": [],
   "source": [
    "import dill\n",
    "import pandas as pd\n",
    "from datetime import datetime\n",
    "\n",
    "dict_studies = dill.load(open('data/dict_studies.pkd', 'rb'))"
   ]
  },
  {
   "cell_type": "code",
   "execution_count": 6,
   "metadata": {},
   "outputs": [
    {
     "data": {
      "text/plain": [
       "[('AVEO Pharmaceuticals, Inc.', 13),\n",
       " ('AbbVie', 56),\n",
       " ('Acceleron Pharma, Inc.', 3),\n",
       " ('Advaxis, Inc.', 8),\n",
       " ('Agenus Inc.', 13),\n",
       " ('Agios Pharmaceuticals, Inc.', 2),\n",
       " ('Amgen', 138),\n",
       " ('AstraZeneca', 229),\n",
       " ('Bristol-Myers Squibb', 251),\n",
       " ('Clovis Oncology, Inc.', 24),\n",
       " ('Eli Lilly and Company', 290),\n",
       " ('Exelixis', 15),\n",
       " ('Incyte Corporation', 70),\n",
       " ('Karyopharm Therapeutics Inc', 12),\n",
       " ('MorphoSys AG', 5),\n",
       " ('Pfizer', 196),\n",
       " ('Sanofi', 168),\n",
       " ('Seagen Inc.', 42),\n",
       " ('Spectrum Pharmaceuticals, Inc', 33),\n",
       " ('Ultragenyx Pharmaceutical Inc', 1),\n",
       " ('Verastem, Inc.', 14)]"
      ]
     },
     "execution_count": 6,
     "metadata": {},
     "output_type": "execute_result"
    }
   ],
   "source": [
    "from collections import Counter\n",
    "curr_dist=sorted(Counter([x['source'] for x in dict_studies]).items())\n",
    "curr_dist"
   ]
  },
  {
   "cell_type": "code",
   "execution_count": 21,
   "metadata": {},
   "outputs": [],
   "source": [
    "ticker_names={'AstraZeneca':'AZN',\n",
    "              'Sanofi':'SNY',\n",
    "             'Amgen':'AMGN',\n",
    "             'Incyte Corporation':'INCY',\n",
    "             'Verastem, Inc.':'VSTM',\n",
    "             'Bristol-Myers Squibb':'BMY',\n",
    "             'Pfizer':'PFE',\n",
    "             'Exelixis':'EXEL',\n",
    "             'AbbVie':'ABBV',\n",
    "             'Karyopharm Therapeutics Inc':'KPTI',\n",
    "             'Seagen Inc.':'SGEN',\n",
    "             'Spectrum Pharmaceuticals, Inc':'SPPI',\n",
    "             'Eli Lilly and Company':'LLY',\n",
    "             'Agenus Inc.':'AGEN',\n",
    "             'Advaxis, Inc.':'ADXS',\n",
    "             'Clovis Oncology, Inc.':'CLVS',\n",
    "             'AVEO Pharmaceuticals, Inc.':'AVEO',\n",
    "             'Acceleron Pharma, Inc.':'XLRN',\n",
    "             'Agios Pharmaceuticals, Inc.':'AGIO',\n",
    "             'MorphoSys AG':'MOR',\n",
    "             'Ultragenyx Pharmaceutical Inc':'RARE',\n",
    "             'Verastem, Inc.':'VSTM'}\n",
    "name_tickers=dict(sorted([(x[1],x[0]) for x in ticker_names.items()]))\n",
    "dill.dump(ticker_names, open('data/ticker_names.pkd', 'wb'))\n",
    "dill.dump(name_tickers, open('data/name_tickers.pkd', 'wb'))"
   ]
  },
  {
   "cell_type": "code",
   "execution_count": 22,
   "metadata": {},
   "outputs": [
    {
     "data": {
      "text/plain": [
       "['ABBV',\n",
       " 'ADXS',\n",
       " 'AGEN',\n",
       " 'AGIO',\n",
       " 'AMGN',\n",
       " 'AVEO',\n",
       " 'AZN',\n",
       " 'BMY',\n",
       " 'CLVS',\n",
       " 'EXEL',\n",
       " 'INCY',\n",
       " 'KPTI',\n",
       " 'LLY',\n",
       " 'MOR',\n",
       " 'PFE',\n",
       " 'RARE',\n",
       " 'SGEN',\n",
       " 'SNY',\n",
       " 'SPPI',\n",
       " 'VSTM',\n",
       " 'XLRN']"
      ]
     },
     "execution_count": 22,
     "metadata": {},
     "output_type": "execute_result"
    }
   ],
   "source": [
    "tickers=[x for x in name_tickers.keys()]\n",
    "dill.dump(tickers, open('data/tickers.pkd', 'wb'))\n",
    "tickers"
   ]
  },
  {
   "cell_type": "code",
   "execution_count": 23,
   "metadata": {},
   "outputs": [
    {
     "data": {
      "text/plain": [
       "21"
      ]
     },
     "execution_count": 23,
     "metadata": {},
     "output_type": "execute_result"
    }
   ],
   "source": [
    "len(tickers)"
   ]
  },
  {
   "cell_type": "code",
   "execution_count": 24,
   "metadata": {},
   "outputs": [],
   "source": [
    "df_dates=pd.DataFrame([([x[1] for x in y.items() if x[0].endswith('date') or x[0]=='nct_id' or x[0]=='brief_title' or x[0]=='source'] )for y in dict_studies],columns=['nct_id']+[x[0] for x in dict_studies[0].items() if x[0].endswith('date')]+['brief_title']+['source'])\n",
    "dill.dump(df_dates, open('data/df_dates.pkd', 'wb'))"
   ]
  },
  {
   "cell_type": "code",
   "execution_count": 28,
   "metadata": {},
   "outputs": [
    {
     "data": {
      "text/plain": [
       "{'ABBV': datetime.datetime(2005, 3, 31, 0, 0),\n",
       " 'ADXS': datetime.datetime(2014, 6, 13, 0, 0),\n",
       " 'AGEN': datetime.datetime(2000, 3, 31, 0, 0),\n",
       " 'AGIO': datetime.datetime(2016, 12, 5, 0, 0),\n",
       " 'AMGN': datetime.datetime(1999, 7, 31, 0, 0),\n",
       " 'AVEO': datetime.datetime(2007, 7, 16, 0, 0),\n",
       " 'AZN': datetime.datetime(1994, 12, 31, 0, 0),\n",
       " 'BMY': datetime.datetime(2000, 6, 30, 0, 0),\n",
       " 'CLVS': datetime.datetime(2010, 5, 12, 0, 0),\n",
       " 'EXEL': datetime.datetime(2007, 12, 7, 0, 0),\n",
       " 'INCY': datetime.datetime(2007, 7, 31, 0, 0),\n",
       " 'KPTI': datetime.datetime(2013, 12, 27, 0, 0),\n",
       " 'LLY': datetime.datetime(1998, 9, 30, 0, 0),\n",
       " 'MOR': datetime.datetime(2012, 9, 3, 0, 0),\n",
       " 'PFE': datetime.datetime(1997, 2, 28, 0, 0),\n",
       " 'RARE': datetime.datetime(2014, 11, 24, 0, 0),\n",
       " 'SGEN': datetime.datetime(2000, 10, 31, 0, 0),\n",
       " 'SNY': datetime.datetime(1996, 3, 31, 0, 0),\n",
       " 'SPPI': datetime.datetime(1998, 10, 31, 0, 0),\n",
       " 'VSTM': datetime.datetime(2013, 5, 31, 0, 0),\n",
       " 'XLRN': datetime.datetime(2011, 10, 20, 0, 0)}"
      ]
     },
     "execution_count": 28,
     "metadata": {},
     "output_type": "execute_result"
    }
   ],
   "source": [
    "df_dates = dill.load(open('data/df_dates.pkd', 'rb'))\n",
    "name_tickers = dill.load(open('data/name_tickers.pkd', 'rb'))\n",
    "tickers = dill.load(open('data/tickers.pkd', 'rb'))\n",
    "\n",
    "def extract_first__study_date(ticker):    \n",
    "    ticker_dates=df_dates[df_dates.source==name_tickers[ticker]]\n",
    "    ticker_dates.set_index('nct_id',inplace=True)\n",
    "    df_sdates=pd.DataFrame(columns=['date','nct_id','datetype'])\n",
    "    for col in ticker_dates.iloc[:,:-2].iteritems():\n",
    "        df=pd.DataFrame()\n",
    "        df['date']=col[1].values\n",
    "        df['nct_id']=col[1].index\n",
    "        df['datetype']=col[0]\n",
    "        df_sdates=df_sdates.append(df)\n",
    "    df_sdates=df_sdates.dropna().sort_values('date').set_index('date')\n",
    "\n",
    "    first_date=datetime.strptime(str(df_sdates.index[0])[:10],'%Y-%m-%d')\n",
    "    \n",
    "    return ticker,first_date\n",
    "\n",
    "first_study_dates=dict([extract_first__study_date(ticker) for ticker in tickers])\n",
    "dill.dump(first_study_dates, open('data/first_study_dates.pkd', 'wb'))\n",
    "first_study_dates"
   ]
  },
  {
   "cell_type": "code",
   "execution_count": 34,
   "metadata": {},
   "outputs": [
    {
     "data": {
      "text/plain": [
       "{'ABBV': datetime.datetime(2005, 3, 1, 0, 0),\n",
       " 'ADXS': datetime.datetime(2014, 5, 14, 0, 0),\n",
       " 'AGEN': datetime.datetime(2000, 3, 1, 0, 0),\n",
       " 'AGIO': datetime.datetime(2016, 11, 5, 0, 0),\n",
       " 'AMGN': datetime.datetime(1999, 7, 1, 0, 0),\n",
       " 'AVEO': datetime.datetime(2007, 6, 16, 0, 0),\n",
       " 'AZN': datetime.datetime(1994, 12, 1, 0, 0),\n",
       " 'BMY': datetime.datetime(2000, 5, 31, 0, 0),\n",
       " 'CLVS': datetime.datetime(2010, 4, 12, 0, 0),\n",
       " 'EXEL': datetime.datetime(2007, 11, 7, 0, 0),\n",
       " 'INCY': datetime.datetime(2007, 7, 1, 0, 0),\n",
       " 'KPTI': datetime.datetime(2013, 11, 27, 0, 0),\n",
       " 'LLY': datetime.datetime(1998, 8, 31, 0, 0),\n",
       " 'MOR': datetime.datetime(2012, 8, 4, 0, 0),\n",
       " 'PFE': datetime.datetime(1997, 1, 29, 0, 0),\n",
       " 'RARE': datetime.datetime(2014, 10, 25, 0, 0),\n",
       " 'SGEN': datetime.datetime(2000, 10, 1, 0, 0),\n",
       " 'SNY': datetime.datetime(1996, 3, 1, 0, 0),\n",
       " 'SPPI': datetime.datetime(1998, 10, 1, 0, 0),\n",
       " 'VSTM': datetime.datetime(2013, 5, 1, 0, 0),\n",
       " 'XLRN': datetime.datetime(2011, 9, 20, 0, 0)}"
      ]
     },
     "execution_count": 34,
     "metadata": {},
     "output_type": "execute_result"
    }
   ],
   "source": [
    "from utils import get_response, get_EOD_data\n",
    "from datetime import timedelta\n",
    "first_study_dates = dill.load(open('data/first_study_dates.pkd', 'rb'))\n",
    "def get_stock_prices(daysdelta):\n",
    "    ticker_first_dates={}\n",
    "    for ticker,fdate in first_study_dates.items():\n",
    "        try:\n",
    "            first_date=datetime.strftime(fdate-timedelta(days=daysdelta),'%Y-%m-%d')\n",
    "            last_date=str(datetime.now())[:10]\n",
    "            ticker_first_dates[ticker]=fdate-timedelta(days=daysdelta)\n",
    "            df_EOD=pd.DataFrame(get_EOD_data(ticker,first_date,last_date).json())\n",
    "            df_EOD['date']=df_EOD['date'].apply(lambda x:x[:10]).apply(lambda x:datetime.strptime(x,'%Y-%m-%d'))\n",
    "            df_EOD.set_index('date',inplace=True)\n",
    "            dill.dump(df_EOD, open('data/EOD/'+ticker+'.pkd', 'wb'))\n",
    "        except Exception as err:\n",
    "            print(ticker,err)\n",
    "    return ticker_first_dates\n",
    "ticker_first_dates=get_stock_prices(30)\n",
    "dill.dump(ticker_first_dates, open('data/ticker_first_dates.pkd', 'wb'))\n",
    "ticker_first_dates"
   ]
  },
  {
   "cell_type": "code",
   "execution_count": 30,
   "metadata": {},
   "outputs": [
    {
     "data": {
      "text/plain": [
       "'2021-01-20'"
      ]
     },
     "execution_count": 30,
     "metadata": {},
     "output_type": "execute_result"
    }
   ],
   "source": [
    "today=datetime.now()\n",
    "str(today)[:10]"
   ]
  },
  {
   "cell_type": "code",
   "execution_count": 3,
   "metadata": {},
   "outputs": [
    {
     "data": {
      "text/html": [
       "<div>\n",
       "<style scoped>\n",
       "    .dataframe tbody tr th:only-of-type {\n",
       "        vertical-align: middle;\n",
       "    }\n",
       "\n",
       "    .dataframe tbody tr th {\n",
       "        vertical-align: top;\n",
       "    }\n",
       "\n",
       "    .dataframe thead th {\n",
       "        text-align: right;\n",
       "    }\n",
       "</style>\n",
       "<table border=\"1\" class=\"dataframe\">\n",
       "  <thead>\n",
       "    <tr style=\"text-align: right;\">\n",
       "      <th></th>\n",
       "      <th>date</th>\n",
       "      <th>text</th>\n",
       "      <th>yvalues</th>\n",
       "    </tr>\n",
       "  </thead>\n",
       "  <tbody>\n",
       "    <tr>\n",
       "      <th>0</th>\n",
       "      <td>2021-01-12</td>\n",
       "      <td>News: SVB Leerink Maintains Outperform on Kary...</td>\n",
       "      <td>1</td>\n",
       "    </tr>\n",
       "    <tr>\n",
       "      <th>1</th>\n",
       "      <td>2021-01-11</td>\n",
       "      <td>News: Karyopharm Sees Prelim. Q4 Sales $35M-$3...</td>\n",
       "      <td>2</td>\n",
       "    </tr>\n",
       "    <tr>\n",
       "      <th>2</th>\n",
       "      <td>2021-01-11</td>\n",
       "      <td>Press Release: Karyopharm Announces Preliminar...</td>\n",
       "      <td>1</td>\n",
       "    </tr>\n",
       "    <tr>\n",
       "      <th>3</th>\n",
       "      <td>2021-01-11</td>\n",
       "      <td>News: Why Karyopharm Therapeutics Is Trading L...</td>\n",
       "      <td>2</td>\n",
       "    </tr>\n",
       "    <tr>\n",
       "      <th>4</th>\n",
       "      <td>2021-01-11</td>\n",
       "      <td>News: Karyopharm Therapeutics shares are tradi...</td>\n",
       "      <td>3</td>\n",
       "    </tr>\n",
       "    <tr>\n",
       "      <th>...</th>\n",
       "      <td>...</td>\n",
       "      <td>...</td>\n",
       "      <td>...</td>\n",
       "    </tr>\n",
       "    <tr>\n",
       "      <th>897</th>\n",
       "      <td>2013-12-02</td>\n",
       "      <td>News: Oppenheimer Initiates Coverage on Karyop...</td>\n",
       "      <td>1</td>\n",
       "    </tr>\n",
       "    <tr>\n",
       "      <th>898</th>\n",
       "      <td>2013-12-02</td>\n",
       "      <td>News: UPDATE: Bank of America Initiates Covera...</td>\n",
       "      <td>2</td>\n",
       "    </tr>\n",
       "    <tr>\n",
       "      <th>899</th>\n",
       "      <td>2013-12-02</td>\n",
       "      <td>News: Bank of America Initiates Coverage on Ka...</td>\n",
       "      <td>3</td>\n",
       "    </tr>\n",
       "    <tr>\n",
       "      <th>900</th>\n",
       "      <td>2013-11-06</td>\n",
       "      <td>News: IPO for Karyopharm Therapeutics Opens at...</td>\n",
       "      <td>4</td>\n",
       "    </tr>\n",
       "    <tr>\n",
       "      <th>901</th>\n",
       "      <td>2013-11-06</td>\n",
       "      <td>News: Quotes for IPO of Karyopharm Therapeutic...</td>\n",
       "      <td>1</td>\n",
       "    </tr>\n",
       "  </tbody>\n",
       "</table>\n",
       "<p>902 rows × 3 columns</p>\n",
       "</div>"
      ],
      "text/plain": [
       "          date                                               text  yvalues\n",
       "0   2021-01-12  News: SVB Leerink Maintains Outperform on Kary...        1\n",
       "1   2021-01-11  News: Karyopharm Sees Prelim. Q4 Sales $35M-$3...        2\n",
       "2   2021-01-11  Press Release: Karyopharm Announces Preliminar...        1\n",
       "3   2021-01-11  News: Why Karyopharm Therapeutics Is Trading L...        2\n",
       "4   2021-01-11  News: Karyopharm Therapeutics shares are tradi...        3\n",
       "..         ...                                                ...      ...\n",
       "897 2013-12-02  News: Oppenheimer Initiates Coverage on Karyop...        1\n",
       "898 2013-12-02  News: UPDATE: Bank of America Initiates Covera...        2\n",
       "899 2013-12-02  News: Bank of America Initiates Coverage on Ka...        3\n",
       "900 2013-11-06  News: IPO for Karyopharm Therapeutics Opens at...        4\n",
       "901 2013-11-06  News: Quotes for IPO of Karyopharm Therapeutic...        1\n",
       "\n",
       "[902 rows x 3 columns]"
      ]
     },
     "execution_count": 3,
     "metadata": {},
     "output_type": "execute_result"
    }
   ],
   "source": [
    "df=dill.load(open('data/News/KPTI.pkd', 'rb'))\n",
    "df"
   ]
  },
  {
   "cell_type": "code",
   "execution_count": 11,
   "metadata": {},
   "outputs": [
    {
     "data": {
      "text/html": [
       "<div>\n",
       "<style scoped>\n",
       "    .dataframe tbody tr th:only-of-type {\n",
       "        vertical-align: middle;\n",
       "    }\n",
       "\n",
       "    .dataframe tbody tr th {\n",
       "        vertical-align: top;\n",
       "    }\n",
       "\n",
       "    .dataframe thead th {\n",
       "        text-align: right;\n",
       "    }\n",
       "</style>\n",
       "<table border=\"1\" class=\"dataframe\">\n",
       "  <thead>\n",
       "    <tr style=\"text-align: right;\">\n",
       "      <th></th>\n",
       "      <th>date</th>\n",
       "      <th>text</th>\n",
       "      <th>yvalues</th>\n",
       "    </tr>\n",
       "  </thead>\n",
       "  <tbody>\n",
       "    <tr>\n",
       "      <th>5</th>\n",
       "      <td>2021-01-05</td>\n",
       "      <td>News: Karyopharm Therapeutics Partner Antengen...</td>\n",
       "      <td>4</td>\n",
       "    </tr>\n",
       "    <tr>\n",
       "      <th>8</th>\n",
       "      <td>2021-01-04</td>\n",
       "      <td>Press Release: Antengene Announces Submission ...</td>\n",
       "      <td>1</td>\n",
       "    </tr>\n",
       "    <tr>\n",
       "      <th>10</th>\n",
       "      <td>2021-01-03</td>\n",
       "      <td>Press Release: Antengene Submits NDA for ATG-0...</td>\n",
       "      <td>1</td>\n",
       "    </tr>\n",
       "    <tr>\n",
       "      <th>11</th>\n",
       "      <td>2020-12-20</td>\n",
       "      <td>Press Release: Antengene Announces its U.S. Pa...</td>\n",
       "      <td>2</td>\n",
       "    </tr>\n",
       "    <tr>\n",
       "      <th>14</th>\n",
       "      <td>2020-12-18</td>\n",
       "      <td>Press Release: Antengene Announces Approval of...</td>\n",
       "      <td>1</td>\n",
       "    </tr>\n",
       "    <tr>\n",
       "      <th>...</th>\n",
       "      <td>...</td>\n",
       "      <td>...</td>\n",
       "      <td>...</td>\n",
       "    </tr>\n",
       "    <tr>\n",
       "      <th>879</th>\n",
       "      <td>2014-04-24</td>\n",
       "      <td>News: Karyopharm Initiates Phase 2 Study of Se...</td>\n",
       "      <td>1</td>\n",
       "    </tr>\n",
       "    <tr>\n",
       "      <th>882</th>\n",
       "      <td>2014-04-21</td>\n",
       "      <td>News: Karyopharm Announces a Phase 1 Trial of ...</td>\n",
       "      <td>3</td>\n",
       "    </tr>\n",
       "    <tr>\n",
       "      <th>883</th>\n",
       "      <td>2014-04-15</td>\n",
       "      <td>News: Karyopharm Announces Initiation of a Pha...</td>\n",
       "      <td>1</td>\n",
       "    </tr>\n",
       "    <tr>\n",
       "      <th>892</th>\n",
       "      <td>2014-01-22</td>\n",
       "      <td>News: Karyopharm Reports Data on Selinexor, Sa...</td>\n",
       "      <td>1</td>\n",
       "    </tr>\n",
       "    <tr>\n",
       "      <th>894</th>\n",
       "      <td>2013-12-08</td>\n",
       "      <td>News: Karyopharm Therapeutics Presents Promisi...</td>\n",
       "      <td>3</td>\n",
       "    </tr>\n",
       "  </tbody>\n",
       "</table>\n",
       "<p>151 rows × 3 columns</p>\n",
       "</div>"
      ],
      "text/plain": [
       "          date                                               text  yvalues\n",
       "5   2021-01-05  News: Karyopharm Therapeutics Partner Antengen...        4\n",
       "8   2021-01-04  Press Release: Antengene Announces Submission ...        1\n",
       "10  2021-01-03  Press Release: Antengene Submits NDA for ATG-0...        1\n",
       "11  2020-12-20  Press Release: Antengene Announces its U.S. Pa...        2\n",
       "14  2020-12-18  Press Release: Antengene Announces Approval of...        1\n",
       "..         ...                                                ...      ...\n",
       "879 2014-04-24  News: Karyopharm Initiates Phase 2 Study of Se...        1\n",
       "882 2014-04-21  News: Karyopharm Announces a Phase 1 Trial of ...        3\n",
       "883 2014-04-15  News: Karyopharm Announces Initiation of a Pha...        1\n",
       "892 2014-01-22  News: Karyopharm Reports Data on Selinexor, Sa...        1\n",
       "894 2013-12-08  News: Karyopharm Therapeutics Presents Promisi...        3\n",
       "\n",
       "[151 rows x 3 columns]"
      ]
     },
     "execution_count": 11,
     "metadata": {},
     "output_type": "execute_result"
    }
   ],
   "source": [
    "df[df.text.str.find('Selinexor')!=-1]"
   ]
  },
  {
   "cell_type": "code",
   "execution_count": 12,
   "metadata": {},
   "outputs": [
    {
     "data": {
      "text/html": [
       "<div>\n",
       "<style scoped>\n",
       "    .dataframe tbody tr th:only-of-type {\n",
       "        vertical-align: middle;\n",
       "    }\n",
       "\n",
       "    .dataframe tbody tr th {\n",
       "        vertical-align: top;\n",
       "    }\n",
       "\n",
       "    .dataframe thead th {\n",
       "        text-align: right;\n",
       "    }\n",
       "</style>\n",
       "<table border=\"1\" class=\"dataframe\">\n",
       "  <thead>\n",
       "    <tr style=\"text-align: right;\">\n",
       "      <th></th>\n",
       "      <th>date</th>\n",
       "      <th>text</th>\n",
       "      <th>yvalues</th>\n",
       "    </tr>\n",
       "  </thead>\n",
       "  <tbody>\n",
       "    <tr>\n",
       "      <th>576</th>\n",
       "      <td>2018-05-24</td>\n",
       "      <td>Press Release: Karyopharm and Antengene Sign E...</td>\n",
       "      <td>1</td>\n",
       "    </tr>\n",
       "    <tr>\n",
       "      <th>683</th>\n",
       "      <td>2017-05-03</td>\n",
       "      <td>News: Karyopharm and Anivive Lifesciences Sign...</td>\n",
       "      <td>1</td>\n",
       "    </tr>\n",
       "    <tr>\n",
       "      <th>684</th>\n",
       "      <td>2017-05-03</td>\n",
       "      <td>Press Release: Karyopharm and Anivive Lifescie...</td>\n",
       "      <td>2</td>\n",
       "    </tr>\n",
       "  </tbody>\n",
       "</table>\n",
       "</div>"
      ],
      "text/plain": [
       "          date                                               text  yvalues\n",
       "576 2018-05-24  Press Release: Karyopharm and Antengene Sign E...        1\n",
       "683 2017-05-03  News: Karyopharm and Anivive Lifesciences Sign...        1\n",
       "684 2017-05-03  Press Release: Karyopharm and Anivive Lifescie...        2"
      ]
     },
     "execution_count": 12,
     "metadata": {},
     "output_type": "execute_result"
    }
   ],
   "source": [
    "df[df.text.str.find('Verdinexor')!=-1]"
   ]
  },
  {
   "cell_type": "code",
   "execution_count": null,
   "metadata": {},
   "outputs": [],
   "source": []
  }
 ],
 "metadata": {
  "kernelspec": {
   "display_name": "Python 3",
   "language": "python",
   "name": "python3"
  },
  "language_info": {
   "codemirror_mode": {
    "name": "ipython",
    "version": 3
   },
   "file_extension": ".py",
   "mimetype": "text/x-python",
   "name": "python",
   "nbconvert_exporter": "python",
   "pygments_lexer": "ipython3",
   "version": "3.6.10"
  }
 },
 "nbformat": 4,
 "nbformat_minor": 4
}
