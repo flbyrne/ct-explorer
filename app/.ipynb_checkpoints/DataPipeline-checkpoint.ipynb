{
 "cells": [
  {
   "cell_type": "code",
   "execution_count": 15,
   "metadata": {},
   "outputs": [],
   "source": [
    "import dill\n",
    "import pandas as pd\n",
    "from datetime import datetime\n",
    "\n",
    "dict_studies = dill.load(open('data/dict_studies.pkd', 'rb'))"
   ]
  },
  {
   "cell_type": "code",
   "execution_count": 6,
   "metadata": {},
   "outputs": [
    {
     "data": {
      "text/plain": [
       "[('AVEO Pharmaceuticals, Inc.', 13),\n",
       " ('AbbVie', 56),\n",
       " ('Acceleron Pharma, Inc.', 3),\n",
       " ('Advaxis, Inc.', 8),\n",
       " ('Agenus Inc.', 13),\n",
       " ('Agios Pharmaceuticals, Inc.', 2),\n",
       " ('Amgen', 138),\n",
       " ('AstraZeneca', 229),\n",
       " ('Bristol-Myers Squibb', 251),\n",
       " ('Clovis Oncology, Inc.', 24),\n",
       " ('Eli Lilly and Company', 290),\n",
       " ('Exelixis', 15),\n",
       " ('Incyte Corporation', 70),\n",
       " ('Karyopharm Therapeutics Inc', 12),\n",
       " ('MorphoSys AG', 5),\n",
       " ('Pfizer', 196),\n",
       " ('Sanofi', 168),\n",
       " ('Seagen Inc.', 42),\n",
       " ('Spectrum Pharmaceuticals, Inc', 33),\n",
       " ('Ultragenyx Pharmaceutical Inc', 1),\n",
       " ('Verastem, Inc.', 14)]"
      ]
     },
     "execution_count": 6,
     "metadata": {},
     "output_type": "execute_result"
    }
   ],
   "source": [
    "from collections import Counter\n",
    "curr_dist=sorted(Counter([x['source'] for x in dict_studies]).items())\n",
    "curr_dist"
   ]
  },
  {
   "cell_type": "code",
   "execution_count": 21,
   "metadata": {},
   "outputs": [],
   "source": [
    "ticker_names={'AstraZeneca':'AZN',\n",
    "              'Sanofi':'SNY',\n",
    "             'Amgen':'AMGN',\n",
    "             'Incyte Corporation':'INCY',\n",
    "             'Verastem, Inc.':'VSTM',\n",
    "             'Bristol-Myers Squibb':'BMY',\n",
    "             'Pfizer':'PFE',\n",
    "             'Exelixis':'EXEL',\n",
    "             'AbbVie':'ABBV',\n",
    "             'Karyopharm Therapeutics Inc':'KPTI',\n",
    "             'Seagen Inc.':'SGEN',\n",
    "             'Spectrum Pharmaceuticals, Inc':'SPPI',\n",
    "             'Eli Lilly and Company':'LLY',\n",
    "             'Agenus Inc.':'AGEN',\n",
    "             'Advaxis, Inc.':'ADXS',\n",
    "             'Clovis Oncology, Inc.':'CLVS',\n",
    "             'AVEO Pharmaceuticals, Inc.':'AVEO',\n",
    "             'Acceleron Pharma, Inc.':'XLRN',\n",
    "             'Agios Pharmaceuticals, Inc.':'AGIO',\n",
    "             'MorphoSys AG':'MOR',\n",
    "             'Ultragenyx Pharmaceutical Inc':'RARE',\n",
    "             'Verastem, Inc.':'VSTM'}\n",
    "name_tickers=dict(sorted([(x[1],x[0]) for x in ticker_names.items()]))\n",
    "dill.dump(ticker_names, open('data/ticker_names.pkd', 'wb'))\n",
    "dill.dump(name_tickers, open('data/name_tickers.pkd', 'wb'))"
   ]
  },
  {
   "cell_type": "code",
   "execution_count": 22,
   "metadata": {},
   "outputs": [
    {
     "data": {
      "text/plain": [
       "['ABBV',\n",
       " 'ADXS',\n",
       " 'AGEN',\n",
       " 'AGIO',\n",
       " 'AMGN',\n",
       " 'AVEO',\n",
       " 'AZN',\n",
       " 'BMY',\n",
       " 'CLVS',\n",
       " 'EXEL',\n",
       " 'INCY',\n",
       " 'KPTI',\n",
       " 'LLY',\n",
       " 'MOR',\n",
       " 'PFE',\n",
       " 'RARE',\n",
       " 'SGEN',\n",
       " 'SNY',\n",
       " 'SPPI',\n",
       " 'VSTM',\n",
       " 'XLRN']"
      ]
     },
     "execution_count": 22,
     "metadata": {},
     "output_type": "execute_result"
    }
   ],
   "source": [
    "tickers=[x for x in name_tickers.keys()]\n",
    "dill.dump(tickers, open('data/tickers.pkd', 'wb'))\n",
    "tickers"
   ]
  },
  {
   "cell_type": "code",
   "execution_count": 23,
   "metadata": {},
   "outputs": [
    {
     "data": {
      "text/plain": [
       "21"
      ]
     },
     "execution_count": 23,
     "metadata": {},
     "output_type": "execute_result"
    }
   ],
   "source": [
    "len(tickers)"
   ]
  },
  {
   "cell_type": "code",
   "execution_count": 24,
   "metadata": {},
   "outputs": [],
   "source": [
    "df_dates=pd.DataFrame([([x[1] for x in y.items() if x[0].endswith('date') or x[0]=='nct_id' or x[0]=='brief_title' or x[0]=='source'] )for y in dict_studies],columns=['nct_id']+[x[0] for x in dict_studies[0].items() if x[0].endswith('date')]+['brief_title']+['source'])\n",
    "dill.dump(df_dates, open('data/df_dates.pkd', 'wb'))"
   ]
  },
  {
   "cell_type": "code",
   "execution_count": 28,
   "metadata": {},
   "outputs": [
    {
     "data": {
      "text/plain": [
       "{'ABBV': datetime.datetime(2005, 3, 31, 0, 0),\n",
       " 'ADXS': datetime.datetime(2014, 6, 13, 0, 0),\n",
       " 'AGEN': datetime.datetime(2000, 3, 31, 0, 0),\n",
       " 'AGIO': datetime.datetime(2016, 12, 5, 0, 0),\n",
       " 'AMGN': datetime.datetime(1999, 7, 31, 0, 0),\n",
       " 'AVEO': datetime.datetime(2007, 7, 16, 0, 0),\n",
       " 'AZN': datetime.datetime(1994, 12, 31, 0, 0),\n",
       " 'BMY': datetime.datetime(2000, 6, 30, 0, 0),\n",
       " 'CLVS': datetime.datetime(2010, 5, 12, 0, 0),\n",
       " 'EXEL': datetime.datetime(2007, 12, 7, 0, 0),\n",
       " 'INCY': datetime.datetime(2007, 7, 31, 0, 0),\n",
       " 'KPTI': datetime.datetime(2013, 12, 27, 0, 0),\n",
       " 'LLY': datetime.datetime(1998, 9, 30, 0, 0),\n",
       " 'MOR': datetime.datetime(2012, 9, 3, 0, 0),\n",
       " 'PFE': datetime.datetime(1997, 2, 28, 0, 0),\n",
       " 'RARE': datetime.datetime(2014, 11, 24, 0, 0),\n",
       " 'SGEN': datetime.datetime(2000, 10, 31, 0, 0),\n",
       " 'SNY': datetime.datetime(1996, 3, 31, 0, 0),\n",
       " 'SPPI': datetime.datetime(1998, 10, 31, 0, 0),\n",
       " 'VSTM': datetime.datetime(2013, 5, 31, 0, 0),\n",
       " 'XLRN': datetime.datetime(2011, 10, 20, 0, 0)}"
      ]
     },
     "execution_count": 28,
     "metadata": {},
     "output_type": "execute_result"
    }
   ],
   "source": [
    "df_dates = dill.load(open('data/df_dates.pkd', 'rb'))\n",
    "name_tickers = dill.load(open('data/name_tickers.pkd', 'rb'))\n",
    "tickers = dill.load(open('data/tickers.pkd', 'rb'))\n",
    "\n",
    "def extract_first__study_date(ticker):    \n",
    "    ticker_dates=df_dates[df_dates.source==name_tickers[ticker]]\n",
    "    ticker_dates.set_index('nct_id',inplace=True)\n",
    "    df_sdates=pd.DataFrame(columns=['date','nct_id','datetype'])\n",
    "    for col in ticker_dates.iloc[:,:-2].iteritems():\n",
    "        df=pd.DataFrame()\n",
    "        df['date']=col[1].values\n",
    "        df['nct_id']=col[1].index\n",
    "        df['datetype']=col[0]\n",
    "        df_sdates=df_sdates.append(df)\n",
    "    df_sdates=df_sdates.dropna().sort_values('date').set_index('date')\n",
    "\n",
    "    first_date=datetime.strptime(str(df_sdates.index[0])[:10],'%Y-%m-%d')\n",
    "    \n",
    "    return ticker,first_date\n",
    "\n",
    "first_study_dates=dict([extract_first__study_date(ticker) for ticker in tickers])\n",
    "dill.dump(first_study_dates, open('data/first_study_dates.pkd', 'wb'))\n",
    "first_study_dates"
   ]
  },
  {
   "cell_type": "code",
   "execution_count": 34,
   "metadata": {},
   "outputs": [
    {
     "data": {
      "text/plain": [
       "{'ABBV': datetime.datetime(2005, 3, 1, 0, 0),\n",
       " 'ADXS': datetime.datetime(2014, 5, 14, 0, 0),\n",
       " 'AGEN': datetime.datetime(2000, 3, 1, 0, 0),\n",
       " 'AGIO': datetime.datetime(2016, 11, 5, 0, 0),\n",
       " 'AMGN': datetime.datetime(1999, 7, 1, 0, 0),\n",
       " 'AVEO': datetime.datetime(2007, 6, 16, 0, 0),\n",
       " 'AZN': datetime.datetime(1994, 12, 1, 0, 0),\n",
       " 'BMY': datetime.datetime(2000, 5, 31, 0, 0),\n",
       " 'CLVS': datetime.datetime(2010, 4, 12, 0, 0),\n",
       " 'EXEL': datetime.datetime(2007, 11, 7, 0, 0),\n",
       " 'INCY': datetime.datetime(2007, 7, 1, 0, 0),\n",
       " 'KPTI': datetime.datetime(2013, 11, 27, 0, 0),\n",
       " 'LLY': datetime.datetime(1998, 8, 31, 0, 0),\n",
       " 'MOR': datetime.datetime(2012, 8, 4, 0, 0),\n",
       " 'PFE': datetime.datetime(1997, 1, 29, 0, 0),\n",
       " 'RARE': datetime.datetime(2014, 10, 25, 0, 0),\n",
       " 'SGEN': datetime.datetime(2000, 10, 1, 0, 0),\n",
       " 'SNY': datetime.datetime(1996, 3, 1, 0, 0),\n",
       " 'SPPI': datetime.datetime(1998, 10, 1, 0, 0),\n",
       " 'VSTM': datetime.datetime(2013, 5, 1, 0, 0),\n",
       " 'XLRN': datetime.datetime(2011, 9, 20, 0, 0)}"
      ]
     },
     "execution_count": 34,
     "metadata": {},
     "output_type": "execute_result"
    }
   ],
   "source": [
    "from utils import get_response, get_EOD_data\n",
    "from datetime import timedelta\n",
    "first_study_dates = dill.load(open('data/first_study_dates.pkd', 'rb'))\n",
    "def get_stock_prices(daysdelta):\n",
    "    ticker_first_dates={}\n",
    "    for ticker,fdate in first_study_dates.items():\n",
    "        try:\n",
    "            first_date=datetime.strftime(fdate-timedelta(days=daysdelta),'%Y-%m-%d')\n",
    "            last_date=str(datetime.now())[:10]\n",
    "            ticker_first_dates[ticker]=fdate-timedelta(days=daysdelta)\n",
    "            df_EOD=pd.DataFrame(get_EOD_data(ticker,first_date,last_date).json())\n",
    "            df_EOD['date']=df_EOD['date'].apply(lambda x:x[:10]).apply(lambda x:datetime.strptime(x,'%Y-%m-%d'))\n",
    "            df_EOD.set_index('date',inplace=True)\n",
    "            dill.dump(df_EOD, open('data/EOD/'+ticker+'.pkd', 'wb'))\n",
    "        except Exception as err:\n",
    "            print(ticker,err)\n",
    "    return ticker_first_dates\n",
    "ticker_first_dates=get_stock_prices(30)\n",
    "dill.dump(ticker_first_dates, open('data/ticker_first_dates.pkd', 'wb'))\n",
    "ticker_first_dates"
   ]
  },
  {
   "cell_type": "code",
   "execution_count": 30,
   "metadata": {},
   "outputs": [
    {
     "data": {
      "text/plain": [
       "'2021-01-20'"
      ]
     },
     "execution_count": 30,
     "metadata": {},
     "output_type": "execute_result"
    }
   ],
   "source": [
    "today=datetime.now()\n",
    "str(today)[:10]"
   ]
  },
  {
   "cell_type": "code",
   "execution_count": null,
   "metadata": {},
   "outputs": [],
   "source": []
  }
 ],
 "metadata": {
  "kernelspec": {
   "display_name": "Python 3",
   "language": "python",
   "name": "python3"
  },
  "language_info": {
   "codemirror_mode": {
    "name": "ipython",
    "version": 3
   },
   "file_extension": ".py",
   "mimetype": "text/x-python",
   "name": "python",
   "nbconvert_exporter": "python",
   "pygments_lexer": "ipython3",
   "version": "3.6.10"
  }
 },
 "nbformat": 4,
 "nbformat_minor": 4
}
